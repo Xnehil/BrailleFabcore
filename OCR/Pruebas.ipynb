{
 "cells": [
  {
   "cell_type": "markdown",
   "metadata": {},
   "source": [
    "# Tesseract"
   ]
  },
  {
   "cell_type": "code",
   "execution_count": 4,
   "metadata": {},
   "outputs": [],
   "source": [
    "from PIL import Image\n",
    "\n",
    "import pytesseract\n",
    "\n",
    "pytesseract.pytesseract.tesseract_cmd = r'D:\\Tesseract\\tesseract.exe' #Cambiar por la ruta de tesseract en su computadora o comentar si ya esta en el PATH"
   ]
  },
  {
   "cell_type": "markdown",
   "metadata": {},
   "source": [
    "Se tomará una captura de este texto para probar el OCR"
   ]
  },
  {
   "cell_type": "markdown",
   "metadata": {},
   "source": []
  },
  {
   "cell_type": "code",
   "execution_count": null,
   "metadata": {},
   "outputs": [],
   "source": [
    "import os\n",
    "from PIL import Image\n",
    "import pytesseract\n",
    "\n",
    "file_path = 'Screenshot_1.png'\n",
    "if not os.path.exists(file_path):\n",
    "    print(f\"File {file_path} does not exist.\")\n",
    "elif not os.access(file_path, os.R_OK):\n",
    "    print(f\"No read permission for file {file_path}.\")\n",
    "else:\n",
    "    try:\n",
    "        print(pytesseract.image_to_string(Image.open(file_path), lang='spa'))\n",
    "    except PermissionError as e:\n",
    "        print(f\"Permission error: {e}\")\n",
    "    except Exception as e:\n",
    "        print(f\"An error occurred: {e}\")\n"
   ]
  },
  {
   "cell_type": "markdown",
   "metadata": {},
   "source": [
    "### Texto de prueba para OCR\n",
    "\n",
    "Texto en español para probar el OCR con captura de pantalla:\n",
    "\n",
    "1. **Texto con acentos y caracteres especiales:**\n",
    "    - ¡Hola! ¿Cómo estás? Éste es un texto de prueba.\n",
    "    - La niña jugaba en el jardín.\n",
    "    - ¡Qué rápido pasa el tiempo!\n",
    "\n",
    "2. **Texto con diferentes tamaños de fuente:**\n",
    "    - Este es un texto en tamaño pequeño.\n",
    "    - ESTE ES UN TEXTO EN TAMAÑO GRANDE.\n",
    "\n",
    "3. **Texto con diferentes estilos de fuente:**\n",
    "    - *Texto en cursiva*\n",
    "    - **Texto en negrita**\n",
    "    - `Texto en monoespaciado`\n",
    "\n",
    "4. **Texto con números y símbolos:**\n",
    "    - 1234567890\n",
    "    - @#$%^&*()_+\n",
    "\n",
    "5. **Texto con diferentes alineaciones:**\n",
    "    - Texto alineado a la izquierda.\n",
    "    - Texto centrado.\n",
    "    - Texto alineado a la derecha.\n"
   ]
  },
  {
   "cell_type": "code",
   "execution_count": null,
   "metadata": {},
   "outputs": [],
   "source": [
    "import time\n",
    "\n",
    "\n",
    "file_path = 'Screenshot_2.png'\n",
    "if not os.path.exists(file_path):\n",
    "    print(f\"File {file_path} does not exist.\")\n",
    "elif not os.access(file_path, os.R_OK):\n",
    "    print(f\"No read permission for file {file_path}.\")\n",
    "else:\n",
    "    try:\n",
    "        start_time = time.time()\n",
    "        result = pytesseract.image_to_string(Image.open(file_path), lang='spa')\n",
    "        end_time = time.time()\n",
    "        print(result)\n",
    "        print(f\"Execution time: {end_time - start_time} seconds\")\n",
    "    except PermissionError as e:\n",
    "        print(f\"Permission error: {e}\")\n",
    "    except Exception as e:\n",
    "        print(f\"An error occurred: {e}\")"
   ]
  },
  {
   "cell_type": "markdown",
   "metadata": {},
   "source": [
    "# Easy-OCR"
   ]
  },
  {
   "cell_type": "code",
   "execution_count": 13,
   "metadata": {},
   "outputs": [
    {
     "name": "stderr",
     "output_type": "stream",
     "text": [
      "Using CPU. Note: This module is much faster with a GPU.\n"
     ]
    }
   ],
   "source": [
    "import easyocr\n",
    "\n",
    "# Initialize the EasyOCR reader\n",
    "reader = easyocr.Reader(['es'], gpu=False)\n",
    "\n",
    "# Define the file paths\n",
    "file_paths = ['Screenshot_1.png', 'Screenshot_2.png']\n"
   ]
  },
  {
   "cell_type": "code",
   "execution_count": 15,
   "metadata": {},
   "outputs": [
    {
     "name": "stdout",
     "output_type": "stream",
     "text": [
      "Results for Screenshot_1.png:\n",
      "Se tomará una captura de este texto para probar el OCR\n",
      "Press Ctrl\n",
      "asr GitHub Copilot\n",
      "do something Start typing to dismiss\n",
      "markdown\n",
      "Execution time: 2.0189452171325684 seconds\n",
      "\n",
      "Results for Screenshot_2.png:\n",
      "Texto en español para probar el OCR con captura de pantalla: 1. Texto con acentos y caracteres especiales: iHola! ;Cómo estás? Éste es un texto de prueba. La niña jugaba en el jardín:. iQué rápido pasa el tiempo! 2 Texto con diferentes tamaños de fuente: Este es un texto en tamaño pequeño. ESTE ES UN TEXTO EN TAMAÑO GRANDE\n",
      "3. Texto con diferentes estilos de fuente:\n",
      "Texto en cursiva Texto en negrita Texto monoespaciado Texto con números y símbolos: 1234567890 @#$9^&*0 _ 5. Texto con diferentes alineaciones:\n",
      "Texto alineado a la izquierda. Texto centrado. Texto alineado a la derecha.\n",
      "Execution time: 2.7975778579711914 seconds\n",
      "\n"
     ]
    }
   ],
   "source": [
    "for file_path in file_paths:\n",
    "    if not os.path.exists(file_path):\n",
    "        print(f\"File {file_path} does not exist.\")\n",
    "    elif not os.access(file_path, os.R_OK):\n",
    "        print(f\"No read permission for file {file_path}.\")\n",
    "    else:\n",
    "        try:\n",
    "            start_time = time.time()\n",
    "            result = reader.readtext(file_path, detail=0, paragraph=True)\n",
    "            end_time = time.time()\n",
    "            print(f\"Results for {file_path}:\")\n",
    "            print(\"\\n\".join(result))\n",
    "            print(f\"Execution time: {end_time - start_time} seconds\\n\")\n",
    "        except PermissionError as e:\n",
    "            print(f\"Permission error: {e}\")\n",
    "        except Exception as e:\n",
    "            print(f\"An error occurred: {e}\")"
   ]
  }
 ],
 "metadata": {
  "kernelspec": {
   "display_name": "braille",
   "language": "python",
   "name": "python3"
  },
  "language_info": {
   "codemirror_mode": {
    "name": "ipython",
    "version": 3
   },
   "file_extension": ".py",
   "mimetype": "text/x-python",
   "name": "python",
   "nbconvert_exporter": "python",
   "pygments_lexer": "ipython3",
   "version": "3.9.20"
  }
 },
 "nbformat": 4,
 "nbformat_minor": 2
}
