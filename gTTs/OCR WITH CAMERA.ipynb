{
 "cells": [
  {
   "cell_type": "code",
   "execution_count": 23,
   "metadata": {},
   "outputs": [
    {
     "name": "stderr",
     "output_type": "stream",
     "text": [
      "\n",
      "    Error 263 for command:\n",
      "        close Audio.mp3\n",
      "    The specified device is not open or is not recognized by MCI.\n",
      "Failed to close the file: Audio.mp3\n"
     ]
    }
   ],
   "source": [
    "import cv2\n",
    "import pytesseract\n",
    "from gtts import gTTS\n",
    "from playsound import playsound\n",
    "\n",
    "\n",
    "video=cv2.VideoCapture('https://10.101.46.73:8080/video')\n",
    "video.set(3, 640)\n",
    "video.set(4, 480)\n",
    "\n",
    "#Video en tiempo real\n",
    "\n",
    "'''\n",
    "while True:\n",
    "    check, frame=video.read()\n",
    "    data4=pytesseract.image_to_data(frame)\n",
    "    for z,a in enumerate(data4.splitlines()):\n",
    "        if z!=0:\n",
    "            a=a.split()\n",
    "            if len(a)==12:\n",
    "                x,y=int(a[6]),int(a[7])\n",
    "                w,h=int(a[8]),int(a[9])\n",
    "                cv2.rectangle(frame,(x,y),(x+w,y+h),(255,0,0),1)\n",
    "                cv2.putText(frame,a[11],(x,y+25),cv2.FONT_HERSHEY_SIMPLEX,1,(255,0,0),2)\n",
    "    cv2.imshow('Video',frame)\n",
    "    if cv2.waitKey(1) == 27:  # Presiona ESC para salir\n",
    "        video.release()\n",
    "        cv2.destroyAllWindows()\n",
    "        break\n",
    "        \n",
    "'''\n",
    "\n",
    "img1=cv2.imread('Capture_1.JPG')\n",
    "img2=cv2.imread('Capture_2.JPG')\n",
    "img3=cv2.imread('Capture_3.JPG')\n",
    "\n",
    "h1Img,w1Img,_=img1.shape\n",
    "h2Img,w2Img,_=img2.shape\n",
    "h3Img,w3Img,_=img3.shape\n",
    "\n",
    "box1=pytesseract.image_to_boxes(img1)\n",
    "box2=pytesseract.image_to_boxes(img2)\n",
    "box3=pytesseract.image_to_boxes(img3)\n",
    "\n",
    "data1=pytesseract.image_to_data(img1)\n",
    "data2=pytesseract.image_to_data(img2)\n",
    "data3=pytesseract.image_to_data(img3)\n",
    "\n",
    "filewrite=open('Texto.txt','w')\n",
    "\n",
    "\n",
    "for z,a in enumerate(data1.splitlines()):\n",
    "    if z!=0:\n",
    "        a=a.split()\n",
    "        if len(a)==12:\n",
    "            x,y=int(a[6]),int(a[7])\n",
    "            w,h=int(a[8]),int(a[9])\n",
    "            cv2.rectangle(img1,(x,y),(x+w,y+h),(255,0,0),1)\n",
    "            cv2.putText(img1,a[11],(x,y+25),cv2.FONT_HERSHEY_SIMPLEX,1,(255,0,0),2)\n",
    "            filewrite.write(a[11]+' ')\n",
    "\n",
    "filewrite.close()\n",
    "\n",
    "fileread=open('Texto.txt','r')\n",
    "lang='en'\n",
    "line= fileread.read()\n",
    "if line != ' ':\n",
    "    #speech=gTTS(text=line,lang=lang,slow=False)\n",
    "    #speech.save('Audio.mp3')\n",
    "    playsound('Audio.mp3')\n",
    "'''\n",
    "for a in box1.splitlines():\n",
    "    a = a.split()\n",
    "    x, y= int(a[1]), int(a[2])\n",
    "    w, h= int(a[3]), int(a[4])\n",
    "    cv2.rectangle(img1, (x,h1Img - y), (w,h1Img - h), (255,0, 0), 1)\n",
    "    cv2.putText(img1, a[0], (x,h1Img - y+25), cv2.FONT_HERSHEY_SIMPLEX, 1, (255,0,255), 2)\n",
    "'''\n",
    "\n",
    "cv2.imshow('Image 1',img1)\n",
    "cv2.waitKey(0)\n",
    "cv2.destroyAllWindows()\n",
    "\n"
   ]
  },
  {
   "cell_type": "code",
   "execution_count": 20,
   "metadata": {},
   "outputs": [
    {
     "name": "stderr",
     "output_type": "stream",
     "text": [
      "\n",
      "    Error 263 for command:\n",
      "        close Texto.mp3\n",
      "    The specified device is not open or is not recognized by MCI.\n",
      "Failed to close the file: Texto.mp3\n"
     ]
    },
    {
     "ename": "KeyboardInterrupt",
     "evalue": "",
     "output_type": "error",
     "traceback": [
      "\u001b[1;31m---------------------------------------------------------------------------\u001b[0m",
      "\u001b[1;31mKeyboardInterrupt\u001b[0m                         Traceback (most recent call last)",
      "Cell \u001b[1;32mIn[20], line 5\u001b[0m\n\u001b[0;32m      3\u001b[0m \u001b[38;5;28;01mfrom\u001b[39;00m \u001b[38;5;21;01mgtts\u001b[39;00m \u001b[38;5;28;01mimport\u001b[39;00m gTTS\n\u001b[0;32m      4\u001b[0m \u001b[38;5;28;01mfrom\u001b[39;00m \u001b[38;5;21;01mplaysound\u001b[39;00m \u001b[38;5;28;01mimport\u001b[39;00m playsound\n\u001b[1;32m----> 5\u001b[0m \u001b[43mplaysound\u001b[49m\u001b[43m(\u001b[49m\u001b[38;5;124;43m'\u001b[39;49m\u001b[38;5;124;43mTexto.mp3\u001b[39;49m\u001b[38;5;124;43m'\u001b[39;49m\u001b[43m)\u001b[49m\n",
      "File \u001b[1;32mc:\\Users\\ashle\\anaconda3\\envs\\FABCORE\\lib\\site-packages\\playsound.py:73\u001b[0m, in \u001b[0;36m_playsoundWin\u001b[1;34m(sound, block)\u001b[0m\n\u001b[0;32m     71\u001b[0m     logger\u001b[38;5;241m.\u001b[39mdebug(\u001b[38;5;124m'\u001b[39m\u001b[38;5;124mStarting\u001b[39m\u001b[38;5;124m'\u001b[39m)\n\u001b[0;32m     72\u001b[0m     winCommand(\u001b[38;5;124mu\u001b[39m\u001b[38;5;124m'\u001b[39m\u001b[38;5;124mopen \u001b[39m\u001b[38;5;132;01m{}\u001b[39;00m\u001b[38;5;124m'\u001b[39m\u001b[38;5;241m.\u001b[39mformat(sound))\n\u001b[1;32m---> 73\u001b[0m     \u001b[43mwinCommand\u001b[49m\u001b[43m(\u001b[49m\u001b[38;5;124;43mu\u001b[39;49m\u001b[38;5;124;43m'\u001b[39;49m\u001b[38;5;124;43mplay \u001b[39;49m\u001b[38;5;132;43;01m{}\u001b[39;49;00m\u001b[38;5;132;43;01m{}\u001b[39;49;00m\u001b[38;5;124;43m'\u001b[39;49m\u001b[38;5;241;43m.\u001b[39;49m\u001b[43mformat\u001b[49m\u001b[43m(\u001b[49m\u001b[43msound\u001b[49m\u001b[43m,\u001b[49m\u001b[43m \u001b[49m\u001b[38;5;124;43m'\u001b[39;49m\u001b[38;5;124;43m wait\u001b[39;49m\u001b[38;5;124;43m'\u001b[39;49m\u001b[43m \u001b[49m\u001b[38;5;28;43;01mif\u001b[39;49;00m\u001b[43m \u001b[49m\u001b[43mblock\u001b[49m\u001b[43m \u001b[49m\u001b[38;5;28;43;01melse\u001b[39;49;00m\u001b[43m \u001b[49m\u001b[38;5;124;43m'\u001b[39;49m\u001b[38;5;124;43m'\u001b[39;49m\u001b[43m)\u001b[49m\u001b[43m)\u001b[49m\n\u001b[0;32m     74\u001b[0m     logger\u001b[38;5;241m.\u001b[39mdebug(\u001b[38;5;124m'\u001b[39m\u001b[38;5;124mReturning\u001b[39m\u001b[38;5;124m'\u001b[39m)\n\u001b[0;32m     75\u001b[0m \u001b[38;5;28;01mfinally\u001b[39;00m:\n",
      "File \u001b[1;32mc:\\Users\\ashle\\anaconda3\\envs\\FABCORE\\lib\\site-packages\\playsound.py:56\u001b[0m, in \u001b[0;36m_playsoundWin.<locals>.winCommand\u001b[1;34m(*command)\u001b[0m\n\u001b[0;32m     54\u001b[0m buf \u001b[38;5;241m=\u001b[39m c_buffer(bufLen)\n\u001b[0;32m     55\u001b[0m command \u001b[38;5;241m=\u001b[39m \u001b[38;5;124m'\u001b[39m\u001b[38;5;124m \u001b[39m\u001b[38;5;124m'\u001b[39m\u001b[38;5;241m.\u001b[39mjoin(command)\u001b[38;5;241m.\u001b[39mencode(\u001b[38;5;124m'\u001b[39m\u001b[38;5;124mutf-16\u001b[39m\u001b[38;5;124m'\u001b[39m)\n\u001b[1;32m---> 56\u001b[0m errorCode \u001b[38;5;241m=\u001b[39m \u001b[38;5;28mint\u001b[39m(\u001b[43mwindll\u001b[49m\u001b[38;5;241;43m.\u001b[39;49m\u001b[43mwinmm\u001b[49m\u001b[38;5;241;43m.\u001b[39;49m\u001b[43mmciSendStringW\u001b[49m\u001b[43m(\u001b[49m\u001b[43mcommand\u001b[49m\u001b[43m,\u001b[49m\u001b[43m \u001b[49m\u001b[43mbuf\u001b[49m\u001b[43m,\u001b[49m\u001b[43m \u001b[49m\u001b[43mbufLen\u001b[49m\u001b[43m \u001b[49m\u001b[38;5;241;43m-\u001b[39;49m\u001b[43m \u001b[49m\u001b[38;5;241;43m1\u001b[39;49m\u001b[43m,\u001b[49m\u001b[43m \u001b[49m\u001b[38;5;241;43m0\u001b[39;49m\u001b[43m)\u001b[49m)  \u001b[38;5;66;03m# use widestring version of the function\u001b[39;00m\n\u001b[0;32m     57\u001b[0m \u001b[38;5;28;01mif\u001b[39;00m errorCode:\n\u001b[0;32m     58\u001b[0m     errorBuffer \u001b[38;5;241m=\u001b[39m c_buffer(bufLen)\n",
      "\u001b[1;31mKeyboardInterrupt\u001b[0m: "
     ]
    }
   ],
   "source": [
    "import cv2\n",
    "import pytesseract\n",
    "from gtts import gTTS\n",
    "from playsound import playsound\n",
    "playsound('Texto.mp3')"
   ]
  }
 ],
 "metadata": {
  "kernelspec": {
   "display_name": "FABCORE",
   "language": "python",
   "name": "python3"
  },
  "language_info": {
   "codemirror_mode": {
    "name": "ipython",
    "version": 3
   },
   "file_extension": ".py",
   "mimetype": "text/x-python",
   "name": "python",
   "nbconvert_exporter": "python",
   "pygments_lexer": "ipython3",
   "version": "3.9.20"
  }
 },
 "nbformat": 4,
 "nbformat_minor": 2
}
