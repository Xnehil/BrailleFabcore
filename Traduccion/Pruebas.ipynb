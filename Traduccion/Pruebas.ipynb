{
 "cells": [
  {
   "cell_type": "code",
   "execution_count": 10,
   "metadata": {},
   "outputs": [],
   "source": [
    "import importlib \n",
    "import textoABraille as tb\n",
    "import pipeline as pl\n",
    "from PIL import Image\n",
    "\n",
    "import pytesseract\n",
    "\n",
    "pytesseract.pytesseract.tesseract_cmd = r'D:\\Tesseract\\tesseract.exe' "
   ]
  },
  {
   "cell_type": "code",
   "execution_count": 12,
   "metadata": {},
   "outputs": [
    {
     "data": {
      "text/plain": [
       "<module 'pipeline' from 'd:\\\\Repositorios\\\\BrailleFabcore\\\\Traduccion\\\\pipeline.py'>"
      ]
     },
     "execution_count": 12,
     "metadata": {},
     "output_type": "execute_result"
    }
   ],
   "source": [
    "importlib.reload(tb) #Para actualizar los cambios en el archivo textoABraille.py\n",
    "importlib.reload(pl) #Para actualizar los cambios en el archivo pipeline.py"
   ]
  },
  {
   "cell_type": "code",
   "execution_count": 5,
   "metadata": {},
   "outputs": [
    {
     "name": "stdout",
     "output_type": "stream",
     "text": [
      "⠓⠕⠇⠁⠂ ⠏⠑⠏⠊⠝⠕\n"
     ]
    }
   ],
   "source": [
    "ejemplo=\"Hola, Pepino\"\n",
    "print(tb.convertirTextoABraille(ejemplo))"
   ]
  },
  {
   "cell_type": "code",
   "execution_count": 6,
   "metadata": {},
   "outputs": [
    {
     "name": "stdout",
     "output_type": "stream",
     "text": [
      "['110010', '101010', '111000', '100000', '010000', '000000', '111100', '100010', '111100', '010100', '101110', '101010']\n"
     ]
    }
   ],
   "source": [
    "# Prueba de texto a señales\n",
    "braille_signals = tb.convertirASeñales(\"Hola, Pepino\")\n",
    "binary_signals = [format(signal, '06b') for signal in braille_signals]\n",
    "print(binary_signals)"
   ]
  },
  {
   "cell_type": "code",
   "execution_count": 14,
   "metadata": {},
   "outputs": [
    {
     "name": "stdout",
     "output_type": "stream",
     "text": [
      "Texto conseguido de la imagen:  El gato se fue de la casa.\n",
      "\n",
      "⠑⠇ ⠛⠁⠞⠕ ⠎⠑ ⠋⠥⠑ ⠙⠑ ⠇⠁ ⠉⠁⠎⠁⠄\n",
      "\n"
     ]
    }
   ],
   "source": [
    "#Prueba de imagen (captura de pantalla) a braille\n",
    "image = Image.open('../ImagenesPrueba/Screenshot_3.png')\n",
    "braille = pl.convertirImagen(image, debug=True)\n",
    "print(braille)"
   ]
  },
  {
   "cell_type": "markdown",
   "metadata": {},
   "source": []
  }
 ],
 "metadata": {
  "kernelspec": {
   "display_name": "braille",
   "language": "python",
   "name": "python3"
  },
  "language_info": {
   "codemirror_mode": {
    "name": "ipython",
    "version": 3
   },
   "file_extension": ".py",
   "mimetype": "text/x-python",
   "name": "python",
   "nbconvert_exporter": "python",
   "pygments_lexer": "ipython3",
   "version": "3.9.20"
  }
 },
 "nbformat": 4,
 "nbformat_minor": 2
}
