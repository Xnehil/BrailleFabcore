{
 "cells": [
  {
   "cell_type": "code",
   "execution_count": null,
   "metadata": {},
   "outputs": [],
   "source": [
    "import importlib \n",
    "import textoABraille as tb\n",
    "import pipeline as pl\n",
    "from PIL import Image\n",
    "\n",
    "import pytesseract\n",
    "\n",
    "pytesseract.pytesseract.tesseract_cmd = r'D:\\Tesseract\\tesseract.exe' "
   ]
  },
  {
   "cell_type": "code",
   "execution_count": null,
   "metadata": {},
   "outputs": [],
   "source": [
    "importlib.reload(tb) #Para actualizar los cambios en el archivo textoABraille.py\n",
    "importlib.reload(pl) #Para actualizar los cambios en el archivo pipeline.py"
   ]
  },
  {
   "cell_type": "code",
   "execution_count": null,
   "metadata": {},
   "outputs": [],
   "source": [
    "ejemplo=\"Hola, Pepino\"\n",
    "print(tb.convertirTextoABraille(ejemplo))"
   ]
  },
  {
   "cell_type": "code",
   "execution_count": null,
   "metadata": {},
   "outputs": [],
   "source": [
    "# Prueba de texto a señales\n",
    "braille_signals = tb.convertirASeñales(\"Hola, Pepino\")\n",
    "binary_signals = [format(signal, '06b') for signal in braille_signals]\n",
    "print(binary_signals)"
   ]
  },
  {
   "cell_type": "code",
   "execution_count": null,
   "metadata": {},
   "outputs": [],
   "source": [
    "#Prueba de imagen (captura de pantalla) a braille\n",
    "image = Image.open('../ImagenesPrueba/Screenshot_3.png')\n",
    "braille = pl.convertirImagen(image, debug=True)\n",
    "print(braille)"
   ]
  },
  {
   "cell_type": "markdown",
   "metadata": {},
   "source": []
  },
  {
   "cell_type": "markdown",
   "metadata": {},
   "source": [
    "## Cámara"
   ]
  },
  {
   "cell_type": "code",
   "execution_count": null,
   "metadata": {},
   "outputs": [],
   "source": [
    "import cv2\n",
    "import pytesseract\n",
    "from pytesseract import Output\n",
    "# Open the default camera\n",
    "# cam = cv2.VideoCapture(0)\n",
    "cam = cv2.VideoCapture(\"http://192.168.137.185:8080/video\")\n",
    "\n",
    "# Get the default frame width and height\n",
    "frame_width = int(cam.get(cv2.CAP_PROP_FRAME_WIDTH))\n",
    "frame_height = int(cam.get(cv2.CAP_PROP_FRAME_HEIGHT))\n",
    "\n",
    "# Define the codec and create VideoWriter object\n",
    "fourcc = cv2.VideoWriter_fourcc(*'mp4v')\n",
    "# out = cv2.VideoWriter('output.mp4', fourcc, 20.0, (frame_width, frame_height))\n",
    "\n",
    "counter = 0\n",
    "ocr_interval = 60\n",
    "resize_factor = 2\n",
    "boxes_and_text = []\n",
    "while True:\n",
    "    # if counter == 5:\n",
    "    #     break\n",
    "    ret, frame = cam.read()\n",
    "\n",
    "    if not ret:\n",
    "        print(\"No se pudo capturar el frame\")\n",
    "        break\n",
    "\n",
    "    \n",
    "    if counter % ocr_interval == 0:\n",
    "        processed_frame = pl.preprocesarImagen(frame, resize_factor=resize_factor)\n",
    "        d = pytesseract.image_to_data(processed_frame, output_type=Output.DICT, lang='spa')\n",
    "        boxes_and_text.clear()\n",
    "        # Cajas de texto detectadas \n",
    "        n_boxes = len(d['level'])\n",
    "        for i in range(n_boxes):\n",
    "            (x, y, w, h) = (d['left'][i] / resize_factor, d['top'][i] / resize_factor, d['width'][i] / resize_factor, d['height'][i] / resize_factor)\n",
    "            x, y, w, h = int(x), int(y), int(w), int(h)\n",
    "            text = d['text'][i]\n",
    "            text = text.strip().replace('\\n', ' ')\n",
    "            if len(text) < 3:\n",
    "                continue\n",
    "            if text:\n",
    "                # print(f\"Detected text: {text}\")\n",
    "                boxes_and_text.append((x, y, w, h, text))\n",
    "                # cv2.rectangle(frame, (x, y), (x + w, y + h), (0, 255, 0), 2)\n",
    "                # cv2.putText(frame, text, (x, y - 10), cv2.FONT_HERSHEY_SIMPLEX, 0.9, (36,255,12), 2)\n",
    "                braille = tb.convertirTextoABraille(text)\n",
    "                print(f\"Se detectó el texto: {text} y se convirtió a braille: {braille}\")\n",
    "                # cv2.putText(frame, braille, (x, y - 20), cv2.FONT_HERSHEY_SIMPLEX, 0.9, (36,255,12), 2)\n",
    "    # cv2.imshow('Processed', processed_frame)\n",
    "\n",
    "    for (x, y, w, h, text) in boxes_and_text:\n",
    "        cv2.rectangle(frame, (x, y), (x + w, y + h), (0, 255, 0), 2)\n",
    "        cv2.putText(frame, text, (x, y - 10), cv2.FONT_HERSHEY_SIMPLEX, 0.9, (36, 255, 12), 2)\n",
    "\n",
    "\n",
    "\n",
    "    # Display the captured frame\n",
    "    cv2.imshow('Camera', frame)\n",
    "    counter += 1\n",
    "    # Press 'q' to exit the loop\n",
    "    if cv2.waitKey(1) == ord('q'):\n",
    "        break\n",
    "    elif cv2.waitKey(1) == ord('s'):\n",
    "        cv2.imwrite(f'frame_{counter}.png', frame)\n",
    "        print(f\"Frame saved as frame_{counter}.png\")\n",
    "\n",
    "# Release the capture and writer objects\n",
    "cam.release()\n",
    "# out.release()\n",
    "cv2.destroyAllWindows()"
   ]
  }
 ],
 "metadata": {
  "kernelspec": {
   "display_name": "braille",
   "language": "python",
   "name": "python3"
  },
  "language_info": {
   "codemirror_mode": {
    "name": "ipython",
    "version": 3
   },
   "file_extension": ".py",
   "mimetype": "text/x-python",
   "name": "python",
   "nbconvert_exporter": "python",
   "pygments_lexer": "ipython3",
   "version": "3.9.20"
  }
 },
 "nbformat": 4,
 "nbformat_minor": 2
}
