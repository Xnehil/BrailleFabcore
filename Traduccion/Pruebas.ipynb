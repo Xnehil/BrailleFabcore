{
 "cells": [
  {
   "cell_type": "code",
   "execution_count": 2,
   "metadata": {},
   "outputs": [],
   "source": [
    "import importlib \n",
    "import textoABraille as tb\n",
    "import pipeline as pl\n",
    "from PIL import Image\n",
    "\n",
    "import pytesseract\n",
    "\n",
    "pytesseract.pytesseract.tesseract_cmd = r'D:\\Tesseract\\tesseract.exe' "
   ]
  },
  {
   "cell_type": "code",
   "execution_count": 3,
   "metadata": {},
   "outputs": [
    {
     "data": {
      "text/plain": [
       "<module 'pipeline' from 'd:\\\\Repositorios\\\\BrailleFabcore\\\\Traduccion\\\\pipeline.py'>"
      ]
     },
     "execution_count": 3,
     "metadata": {},
     "output_type": "execute_result"
    }
   ],
   "source": [
    "importlib.reload(tb) #Para actualizar los cambios en el archivo textoABraille.py\n",
    "importlib.reload(pl) #Para actualizar los cambios en el archivo pipeline.py"
   ]
  },
  {
   "cell_type": "markdown",
   "metadata": {},
   "source": [
    "## Pruebas anteriores"
   ]
  },
  {
   "cell_type": "code",
   "execution_count": null,
   "metadata": {},
   "outputs": [],
   "source": [
    "ejemplo=\"Hola, Pepino\"\n",
    "print(tb.convertirTextoABraille(ejemplo))"
   ]
  },
  {
   "cell_type": "code",
   "execution_count": null,
   "metadata": {},
   "outputs": [],
   "source": [
    "# Prueba de texto a señales\n",
    "braille_signals = tb.convertirASeñales(\"Hola, Pepino\")\n",
    "binary_signals = [format(signal, '06b') for signal in braille_signals]\n",
    "print(binary_signals)"
   ]
  },
  {
   "cell_type": "code",
   "execution_count": null,
   "metadata": {},
   "outputs": [],
   "source": [
    "#Prueba de imagen (captura de pantalla) a braille\n",
    "image = Image.open('../ImagenesPrueba/Screenshot_3.png')\n",
    "braille = pl.convertirImagen(image, debug=True)\n",
    "print(braille)"
   ]
  },
  {
   "cell_type": "markdown",
   "metadata": {},
   "source": [
    "## Cámara"
   ]
  },
  {
   "cell_type": "code",
   "execution_count": null,
   "metadata": {},
   "outputs": [],
   "source": [
    "import cv2\n",
    "import pytesseract\n",
    "from pytesseract import Output\n",
    "# Open the default camera\n",
    "# cam = cv2.VideoCapture(0)\n",
    "cam = cv2.VideoCapture(\"http://10.101.48.143:81/stream\")\n",
    "\n",
    "# Get the default frame width and height\n",
    "frame_width = int(cam.get(cv2.CAP_PROP_FRAME_WIDTH))\n",
    "frame_height = int(cam.get(cv2.CAP_PROP_FRAME_HEIGHT))\n",
    "\n",
    "# Define the codec and create VideoWriter object\n",
    "fourcc = cv2.VideoWriter_fourcc(*'mp4v')\n",
    "# out = cv2.VideoWriter('output.mp4', fourcc, 20.0, (frame_width, frame_height))\n",
    "\n",
    "counter = 0\n",
    "ocr_interval = 60\n",
    "resize_factor = 4\n",
    "boxes_and_text = []\n",
    "while True:\n",
    "    # if counter == 5:\n",
    "    #     break\n",
    "    ret, frame = cam.read()\n",
    "\n",
    "    if not ret:\n",
    "        print(\"No se pudo capturar el frame\")\n",
    "        break\n",
    "\n",
    "    \n",
    "    if counter % ocr_interval == 0:\n",
    "        processed_frame = pl.preprocesarImagen(frame, resize_factor=resize_factor)\n",
    "        d = pytesseract.image_to_data(processed_frame, output_type=Output.DICT, lang='spa')\n",
    "        boxes_and_text.clear()\n",
    "        # Cajas de texto detectadas \n",
    "        n_boxes = len(d['level'])\n",
    "        for i in range(n_boxes):\n",
    "            (x, y, w, h) = (d['left'][i] / resize_factor, d['top'][i] / resize_factor, d['width'][i] / resize_factor, d['height'][i] / resize_factor)\n",
    "            x, y, w, h = int(x), int(y), int(w), int(h)\n",
    "            text = d['text'][i]\n",
    "            text = text.strip().replace('\\n', ' ')\n",
    "            if len(text) < 3:\n",
    "                continue\n",
    "            if text:\n",
    "                # print(f\"Detected text: {text}\")\n",
    "                boxes_and_text.append((x, y, w, h, text))\n",
    "                # cv2.rectangle(frame, (x, y), (x + w, y + h), (0, 255, 0), 2)\n",
    "                # cv2.putText(frame, text, (x, y - 10), cv2.FONT_HERSHEY_SIMPLEX, 0.9, (36,255,12), 2)\n",
    "                braille = tb.convertirTextoABraille(text)q\n",
    "                print(f\"Se detectó el texto: {text} y se convirtió a braille: {braille}\")\n",
    "                # cv2.putText(frame, braille, (x, y - 20), cv2.FONT_HERSHEY_SIMPLEX, 0.9, (36,255,12), 2)\n",
    "    cv2.imshow('Processed', processed_frame)\n",
    "\n",
    "    for (x, y, w, h, text) in boxes_and_text:\n",
    "        cv2.rectangle(frame, (x, y), (x + w, y + h), (0, 255, 0), 2)\n",
    "        cv2.putText(frame, text, (x, y - 10), cv2.FONT_HERSHEY_SIMPLEX, 0.9, (36, 255, 12), 2)\n",
    "\n",
    "\n",
    "\n",
    "    # Display the captured frame\n",
    "    cv2.imshow('Camera', frame)\n",
    "    counter += 1\n",
    "    # Press 'q' to exit the loop\n",
    "    if cv2.waitKey(1) == ord('q'):\n",
    "        break\n",
    "    elif cv2.waitKey(1) == ord('s'):\n",
    "        cv2.imwrite(f'frame_{counter}.png', frame)\n",
    "        print(f\"Frame saved as frame_{counter}.png\")\n",
    "\n",
    "# Release the capture and writer objects\n",
    "cam.release()\n",
    "# out.release()\n",
    "cv2.destroyAllWindows()"
   ]
  },
  {
   "cell_type": "markdown",
   "metadata": {},
   "source": [
    "## Intento 2"
   ]
  },
  {
   "cell_type": "code",
   "execution_count": 70,
   "metadata": {},
   "outputs": [
    {
     "name": "stdout",
     "output_type": "stream",
     "text": [
      "Texto: Pato\n",
      "\n",
      "Braille: ⠏⠁⠞⠕\n",
      "Señales: ['111100', '100000', '011110', '101010']\n",
      "Ángulos: [[157.5, 22.5], [22.5, 45], [90, 135], [0, 112.5]]\n",
      "Se enviaron los ángulos: {'angulos': '[(157.5,22.5),(22.5,45),(90,135),(0,112.5)]'}\n"
     ]
    }
   ],
   "source": [
    "import pytesseract\n",
    "from pytesseract import Output\n",
    "import requests\n",
    "import textoABraille as tb\n",
    "import textoABraille as tb\n",
    "import pipeline as pl\n",
    "import json\n",
    "\n",
    "importlib.reload(tb) #Para a{ctualizar los cambios en el archivo textoABraille.py\n",
    "importlib.reload(pl) #Para actualizar los cambios en el archivo pipeline.py\n",
    "# Set the path to the Tesseract executable\n",
    "pytesseract.pytesseract.tesseract_cmd = r'D:\\Tesseract\\tesseract.exe'  # Change to the path of Tesseract on your computer or comment if already in PATH\n",
    "\n",
    "# Initialize serial communication with ESP32\n",
    "# ser = serial.Serial('COM3', 115200)  # Change 'COM3' to the appropriate port\n",
    "\n",
    "\n",
    "def send_signals_to_esp32(angulos):\n",
    "    # Convert Braille text to servo motor angles\n",
    "    url = \"http://10.100.56.254/paqueteAngulos\"\n",
    "    \n",
    "    # Cada paquete de ágnulso viene como (ángulo1, ángulo2)\n",
    "    stringToSend =\"[\"\n",
    "    angulosSet = []\n",
    "    angulosSet += [f\"({angulo[0]},{angulo[1]})\" for angulo in angulos]\n",
    "    for i in range(len(angulosSet)):\n",
    "        stringToSend += angulosSet[i]\n",
    "        if i != len(angulosSet)-1:\n",
    "            stringToSend += \",\"\n",
    "    stringToSend += \"]\"\n",
    "    payload =  {\"angulos\": stringToSend}\n",
    "    \n",
    "    try:\n",
    "        # POST a la URL con los ángulos\n",
    "        response = requests.post(url, data=payload)\n",
    "        \n",
    "        if response.status_code == 200:\n",
    "            print(f\"Se enviaron los ángulos: {payload}\")\n",
    "        else:\n",
    "            print(f\"No se pudieron enviar los ángulos:  {payload}\")\n",
    "    except requests.exceptions.RequestException as e:\n",
    "        print(f\"Error enviando los ángulos: {e}\")\n",
    "\n",
    "\n",
    "\n",
    "def main(file_path):\n",
    "    if file_path.lower().endswith(('.png', '.jpg', '.jpeg', '.bmp')):\n",
    "        text = pl.process_image(file_path)\n",
    "    elif file_path.lower().endswith('.pdf'):\n",
    "        text = pl.process_pdf(file_path)\n",
    "    else:\n",
    "        print(\"Unsupported file format\")\n",
    "        return\n",
    "    # print(f\"Detected text: {text}\")\n",
    "    braille=tb.convertirTextoABraille(text)\n",
    "    seniales=tb.convertirASeñales(text)\n",
    "    angulos = tb.convertirAAngulos(text)\n",
    "    print(f\"Texto: {text}\")\n",
    "    print(f\"Braille: {braille}\")\n",
    "    print(f\"Señales: {[format(s, '06b') for s in seniales]}\")\n",
    "    print(f\"Ángulos: {angulos}\")\n",
    "    send_signals_to_esp32(angulos)\n",
    "\n",
    "main('..\\ImagenesPrueba/pato.png')"
   ]
  },
  {
   "cell_type": "markdown",
   "metadata": {},
   "source": [
    "Pato"
   ]
  },
  {
   "cell_type": "code",
   "execution_count": 25,
   "metadata": {},
   "outputs": [
    {
     "name": "stdout",
     "output_type": "stream",
     "text": [
      "Se enviaron los ángulos: (45, 45)\n",
      "Contador: 0 en binario: 000\n",
      "Se enviaron los ángulos: (67.5, 67.5)\n",
      "Contador: 1 en binario: 001\n",
      "Se enviaron los ángulos: (112.5, 112.5)\n",
      "Contador: 2 en binario: 010\n",
      "Se enviaron los ángulos: (90, 90)\n",
      "Contador: 3 en binario: 011\n",
      "Se enviaron los ángulos: (22.5, 22.5)\n",
      "Contador: 4 en binario: 100\n",
      "Se enviaron los ángulos: (0, 0)\n",
      "Contador: 5 en binario: 101\n",
      "Se enviaron los ángulos: (135, 135)\n",
      "Contador: 6 en binario: 110\n",
      "Se enviaron los ángulos: (157.5, 157.5)\n",
      "Contador: 7 en binario: 111\n"
     ]
    }
   ],
   "source": [
    "import time \n",
    "\n",
    "angulos = [45,67.5, 112.5,90,22.5,0,135,157.5]\n",
    "contador=0\n",
    "for angulo in angulos:\n",
    "    aEnviar = (angulo, angulo)\n",
    "    send_signals_to_esp32([aEnviar])\n",
    "    # Contador en binario 3 bits\n",
    "    contador_binario = format(contador, '03b')\n",
    "    print(f\"Contador: {contador} en binario: {contador_binario}\")\n",
    "    contador+=1\n",
    "    time.sleep(2)"
   ]
  }
 ],
 "metadata": {
  "kernelspec": {
   "display_name": "braille",
   "language": "python",
   "name": "python3"
  },
  "language_info": {
   "codemirror_mode": {
    "name": "ipython",
    "version": 3
   },
   "file_extension": ".py",
   "mimetype": "text/x-python",
   "name": "python",
   "nbconvert_exporter": "python",
   "pygments_lexer": "ipython3",
   "version": "3.9.20"
  }
 },
 "nbformat": 4,
 "nbformat_minor": 2
}
