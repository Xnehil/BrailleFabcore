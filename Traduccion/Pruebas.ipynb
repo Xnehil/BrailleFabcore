{
 "cells": [
  {
   "cell_type": "code",
   "execution_count": 1,
   "metadata": {},
   "outputs": [],
   "source": [
    "import importlib \n",
    "import textoABraille as tb\n",
    "import pipeline as pl\n",
    "from PIL import Image\n",
    "\n",
    "import pytesseract\n",
    "\n",
    "pytesseract.pytesseract.tesseract_cmd = r'D:\\Tesseract\\tesseract.exe' "
   ]
  },
  {
   "cell_type": "code",
   "execution_count": 2,
   "metadata": {},
   "outputs": [
    {
     "data": {
      "text/plain": [
       "<module 'pipeline' from 'd:\\\\Repositorios\\\\BrailleFabcore\\\\Traduccion\\\\pipeline.py'>"
      ]
     },
     "execution_count": 2,
     "metadata": {},
     "output_type": "execute_result"
    }
   ],
   "source": [
    "importlib.reload(tb) #Para actualizar los cambios en el archivo textoABraille.py\n",
    "importlib.reload(pl) #Para actualizar los cambios en el archivo pipeline.py"
   ]
  },
  {
   "cell_type": "code",
   "execution_count": null,
   "metadata": {},
   "outputs": [],
   "source": [
    "ejemplo=\"Hola, Pepino\"\n",
    "print(tb.convertirTextoABraille(ejemplo))"
   ]
  },
  {
   "cell_type": "code",
   "execution_count": null,
   "metadata": {},
   "outputs": [],
   "source": [
    "# Prueba de texto a señales\n",
    "braille_signals = tb.convertirASeñales(\"Hola, Pepino\")\n",
    "binary_signals = [format(signal, '06b') for signal in braille_signals]\n",
    "print(binary_signals)"
   ]
  },
  {
   "cell_type": "code",
   "execution_count": null,
   "metadata": {},
   "outputs": [],
   "source": [
    "#Prueba de imagen (captura de pantalla) a braille\n",
    "image = Image.open('../ImagenesPrueba/Screenshot_3.png')\n",
    "braille = pl.convertirImagen(image, debug=True)\n",
    "print(braille)"
   ]
  },
  {
   "cell_type": "markdown",
   "metadata": {},
   "source": [
    "## Cámara"
   ]
  },
  {
   "cell_type": "code",
   "execution_count": null,
   "metadata": {},
   "outputs": [],
   "source": [
    "import cv2\n",
    "import pytesseract\n",
    "from pytesseract import Output\n",
    "# Open the default camera\n",
    "# cam = cv2.VideoCapture(0)\n",
    "cam = cv2.VideoCapture(\"http://10.101.48.143:81/stream\")\n",
    "\n",
    "# Get the default frame width and height\n",
    "frame_width = int(cam.get(cv2.CAP_PROP_FRAME_WIDTH))\n",
    "frame_height = int(cam.get(cv2.CAP_PROP_FRAME_HEIGHT))\n",
    "\n",
    "# Define the codec and create VideoWriter object\n",
    "fourcc = cv2.VideoWriter_fourcc(*'mp4v')\n",
    "# out = cv2.VideoWriter('output.mp4', fourcc, 20.0, (frame_width, frame_height))\n",
    "\n",
    "counter = 0\n",
    "ocr_interval = 60\n",
    "resize_factor = 4\n",
    "boxes_and_text = []\n",
    "while True:\n",
    "    # if counter == 5:\n",
    "    #     break\n",
    "    ret, frame = cam.read()\n",
    "\n",
    "    if not ret:\n",
    "        print(\"No se pudo capturar el frame\")\n",
    "        break\n",
    "\n",
    "    \n",
    "    if counter % ocr_interval == 0:\n",
    "        processed_frame = pl.preprocesarImagen(frame, resize_factor=resize_factor)\n",
    "        d = pytesseract.image_to_data(processed_frame, output_type=Output.DICT, lang='spa')\n",
    "        boxes_and_text.clear()\n",
    "        # Cajas de texto detectadas \n",
    "        n_boxes = len(d['level'])\n",
    "        for i in range(n_boxes):\n",
    "            (x, y, w, h) = (d['left'][i] / resize_factor, d['top'][i] / resize_factor, d['width'][i] / resize_factor, d['height'][i] / resize_factor)\n",
    "            x, y, w, h = int(x), int(y), int(w), int(h)\n",
    "            text = d['text'][i]\n",
    "            text = text.strip().replace('\\n', ' ')\n",
    "            if len(text) < 3:\n",
    "                continue\n",
    "            if text:\n",
    "                # print(f\"Detected text: {text}\")\n",
    "                boxes_and_text.append((x, y, w, h, text))\n",
    "                # cv2.rectangle(frame, (x, y), (x + w, y + h), (0, 255, 0), 2)\n",
    "                # cv2.putText(frame, text, (x, y - 10), cv2.FONT_HERSHEY_SIMPLEX, 0.9, (36,255,12), 2)\n",
    "                braille = tb.convertirTextoABraille(text)q\n",
    "                print(f\"Se detectó el texto: {text} y se convirtió a braille: {braille}\")\n",
    "                # cv2.putText(frame, braille, (x, y - 20), cv2.FONT_HERSHEY_SIMPLEX, 0.9, (36,255,12), 2)\n",
    "    cv2.imshow('Processed', processed_frame)\n",
    "\n",
    "    for (x, y, w, h, text) in boxes_and_text:\n",
    "        cv2.rectangle(frame, (x, y), (x + w, y + h), (0, 255, 0), 2)\n",
    "        cv2.putText(frame, text, (x, y - 10), cv2.FONT_HERSHEY_SIMPLEX, 0.9, (36, 255, 12), 2)\n",
    "\n",
    "\n",
    "\n",
    "    # Display the captured frame\n",
    "    cv2.imshow('Camera', frame)\n",
    "    counter += 1\n",
    "    # Press 'q' to exit the loop\n",
    "    if cv2.waitKey(1) == ord('q'):\n",
    "        break\n",
    "    elif cv2.waitKey(1) == ord('s'):\n",
    "        cv2.imwrite(f'frame_{counter}.png', frame)\n",
    "        print(f\"Frame saved as frame_{counter}.png\")\n",
    "\n",
    "# Release the capture and writer objects\n",
    "cam.release()\n",
    "# out.release()\n",
    "cv2.destroyAllWindows()"
   ]
  },
  {
   "cell_type": "markdown",
   "metadata": {},
   "source": [
    "## Intento 2"
   ]
  },
  {
   "cell_type": "code",
   "execution_count": 5,
   "metadata": {},
   "outputs": [
    {
     "name": "stdout",
     "output_type": "stream",
     "text": [
      "Texto: El gato se fue de la casa.\n",
      "\n",
      "Braille: ⠑⠇ ⠛⠁⠞⠕ ⠎⠑ ⠋⠥⠑ ⠙⠑ ⠇⠁ ⠉⠁⠎⠁⠄\n",
      "Señales: ['100010', '111000', '000000', '110110', '100000', '011110', '101010', '000000', '011100', '100010', '000000', '110100', '101001', '100010', '000000', '100110', '100010', '000000', '111000', '100000', '000000', '100100', '100000', '011100', '100000', '001000']\n",
      "Ángulos: [[180, 90], [315, 0], [0, 0], [270, 270], [180, 0], [135, 270], [225, 90], [0, 0], [135, 180], [180, 90], [0, 0], [270, 180], [225, 45], [180, 90], [0, 0], [180, 270], [180, 90], [0, 0], [315, 0], [180, 0], [0, 0], [180, 180], [180, 0], [135, 180], [180, 0], [45, 0]]\n",
      "Se enviaron los ángulos: [180, 90]\n",
      "Se enviaron los ángulos: [315, 0]\n",
      "Se enviaron los ángulos: [0, 0]\n",
      "Se enviaron los ángulos: [270, 270]\n",
      "Se enviaron los ángulos: [180, 0]\n",
      "Se enviaron los ángulos: [135, 270]\n",
      "Se enviaron los ángulos: [225, 90]\n",
      "Se enviaron los ángulos: [0, 0]\n",
      "Se enviaron los ángulos: [135, 180]\n",
      "Se enviaron los ángulos: [180, 90]\n",
      "Se enviaron los ángulos: [0, 0]\n",
      "Se enviaron los ángulos: [270, 180]\n",
      "Se enviaron los ángulos: [225, 45]\n",
      "Se enviaron los ángulos: [180, 90]\n",
      "Se enviaron los ángulos: [0, 0]\n",
      "Se enviaron los ángulos: [180, 270]\n",
      "Se enviaron los ángulos: [180, 90]\n",
      "Se enviaron los ángulos: [0, 0]\n",
      "Se enviaron los ángulos: [315, 0]\n",
      "Se enviaron los ángulos: [180, 0]\n",
      "Se enviaron los ángulos: [0, 0]\n",
      "Se enviaron los ángulos: [180, 180]\n",
      "Se enviaron los ángulos: [180, 0]\n",
      "Se enviaron los ángulos: [135, 180]\n",
      "Se enviaron los ángulos: [180, 0]\n",
      "Se enviaron los ángulos: [45, 0]\n"
     ]
    }
   ],
   "source": [
    "import pytesseract\n",
    "from pytesseract import Output\n",
    "import requests\n",
    "import textoABraille as tb\n",
    "import textoABraille as tb\n",
    "import pipeline as pl\n",
    "\n",
    "importlib.reload(tb) #Para actualizar los cambios en el archivo textoABraille.py\n",
    "importlib.reload(pl) #Para actualizar los cambios en el archivo pipeline.py\n",
    "# Set the path to the Tesseract executable\n",
    "pytesseract.pytesseract.tesseract_cmd = r'D:\\Tesseract\\tesseract.exe'  # Change to the path of Tesseract on your computer or comment if already in PATH\n",
    "\n",
    "# Initialize serial communication with ESP32\n",
    "# ser = serial.Serial('COM3', 115200)  # Change 'COM3' to the appropriate port\n",
    "\n",
    "\n",
    "def send_signals_to_esp32(angulos):\n",
    "    # Convert Braille text to servo motor angles\n",
    "    url = \"http://10.100.57.141/angulos\"\n",
    "    \n",
    "    for angle in angulos:\n",
    "        # Cada paquete de ágnulso viene como (ángulo1, ángulo2)\n",
    "        payload = {'angle1': angle[0], 'angle2': angle[1]}\n",
    "        \n",
    "        try:\n",
    "            # POST a la URL con los ángulos\n",
    "            response = requests.post(url, data=payload)\n",
    "            \n",
    "            if response.status_code == 200:\n",
    "                print(f\"Se enviaron los ángulos: {angle}\")\n",
    "            else:\n",
    "                print(f\"No se pudieron enviar los ángulos: {angle}\")\n",
    "        except requests.exceptions.RequestException as e:\n",
    "            print(f\"Error enviando los ángulos: {angle}\")\n",
    "\n",
    "\n",
    "\n",
    "def main(file_path):\n",
    "    if file_path.lower().endswith(('.png', '.jpg', '.jpeg', '.bmp')):\n",
    "        text = pl.process_image(file_path)\n",
    "    elif file_path.lower().endswith('.pdf'):\n",
    "        text = pl.process_pdf(file_path)\n",
    "    else:\n",
    "        print(\"Unsupported file format\")\n",
    "        return\n",
    "    # print(f\"Detected text: {text}\")\n",
    "    braille=tb.convertirTextoABraille(text)\n",
    "    seniales=tb.convertirASeñales(text)\n",
    "    angulos = tb.convertirAAngulos(text)\n",
    "    print(f\"Texto: {text}\")\n",
    "    print(f\"Braille: {braille}\")\n",
    "    print(f\"Señales: {[format(s, '06b') for s in seniales]}\")\n",
    "    print(f\"Ángulos: {angulos}\")\n",
    "    send_signals_to_esp32(angulos)\n",
    "\n",
    "main('..\\ImagenesPrueba/Screenshot_3.png')"
   ]
  }
 ],
 "metadata": {
  "kernelspec": {
   "display_name": "braille",
   "language": "python",
   "name": "python3"
  },
  "language_info": {
   "codemirror_mode": {
    "name": "ipython",
    "version": 3
   },
   "file_extension": ".py",
   "mimetype": "text/x-python",
   "name": "python",
   "nbconvert_exporter": "python",
   "pygments_lexer": "ipython3",
   "version": "3.9.20"
  }
 },
 "nbformat": 4,
 "nbformat_minor": 2
}
