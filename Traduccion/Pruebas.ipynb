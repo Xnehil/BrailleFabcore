{
 "cells": [
  {
   "cell_type": "code",
   "execution_count": null,
   "metadata": {},
   "outputs": [],
   "source": [
    "import importlib \n",
    "import textoABraille as tb\n",
    "import pipeline as pl\n",
    "from PIL import Image\n",
    "\n",
    "import pytesseract\n",
    "\n",
    "pytesseract.pytesseract.tesseract_cmd = r'D:\\Tesseract\\tesseract.exe' "
   ]
  },
  {
   "cell_type": "code",
   "execution_count": null,
   "metadata": {},
   "outputs": [],
   "source": [
    "importlib.reload(tb) #Para actualizar los cambios en el archivo textoABraille.py\n",
    "importlib.reload(pl) #Para actualizar los cambios en el archivo pipeline.py"
   ]
  },
  {
   "cell_type": "code",
   "execution_count": null,
   "metadata": {},
   "outputs": [],
   "source": [
    "ejemplo=\"Hola, Pepino\"\n",
    "print(tb.convertirTextoABraille(ejemplo))"
   ]
  },
  {
   "cell_type": "code",
   "execution_count": null,
   "metadata": {},
   "outputs": [],
   "source": [
    "# Prueba de texto a señales\n",
    "braille_signals = tb.convertirASeñales(\"Hola, Pepino\")\n",
    "binary_signals = [format(signal, '06b') for signal in braille_signals]\n",
    "print(binary_signals)"
   ]
  },
  {
   "cell_type": "code",
   "execution_count": null,
   "metadata": {},
   "outputs": [],
   "source": [
    "#Prueba de imagen (captura de pantalla) a braille\n",
    "image = Image.open('../ImagenesPrueba/Screenshot_3.png')\n",
    "braille = pl.convertirImagen(image, debug=True)\n",
    "print(braille)"
   ]
  },
  {
   "cell_type": "markdown",
   "metadata": {},
   "source": [
    "## Cámara"
   ]
  },
  {
   "cell_type": "code",
   "execution_count": null,
   "metadata": {},
   "outputs": [],
   "source": [
    "import cv2\n",
    "import pytesseract\n",
    "from pytesseract import Output\n",
    "# Open the default camera\n",
    "# cam = cv2.VideoCapture(0)\n",
    "cam = cv2.VideoCapture(\"http://10.101.48.143:81/stream\")\n",
    "\n",
    "# Get the default frame width and height\n",
    "frame_width = int(cam.get(cv2.CAP_PROP_FRAME_WIDTH))\n",
    "frame_height = int(cam.get(cv2.CAP_PROP_FRAME_HEIGHT))\n",
    "\n",
    "# Define the codec and create VideoWriter object\n",
    "fourcc = cv2.VideoWriter_fourcc(*'mp4v')\n",
    "# out = cv2.VideoWriter('output.mp4', fourcc, 20.0, (frame_width, frame_height))\n",
    "\n",
    "counter = 0\n",
    "ocr_interval = 60\n",
    "resize_factor = 4\n",
    "boxes_and_text = []\n",
    "while True:\n",
    "    # if counter == 5:\n",
    "    #     break\n",
    "    ret, frame = cam.read()\n",
    "\n",
    "    if not ret:\n",
    "        print(\"No se pudo capturar el frame\")\n",
    "        break\n",
    "\n",
    "    \n",
    "    if counter % ocr_interval == 0:\n",
    "        processed_frame = pl.preprocesarImagen(frame, resize_factor=resize_factor)\n",
    "        d = pytesseract.image_to_data(processed_frame, output_type=Output.DICT, lang='spa')\n",
    "        boxes_and_text.clear()\n",
    "        # Cajas de texto detectadas \n",
    "        n_boxes = len(d['level'])\n",
    "        for i in range(n_boxes):\n",
    "            (x, y, w, h) = (d['left'][i] / resize_factor, d['top'][i] / resize_factor, d['width'][i] / resize_factor, d['height'][i] / resize_factor)\n",
    "            x, y, w, h = int(x), int(y), int(w), int(h)\n",
    "            text = d['text'][i]\n",
    "            text = text.strip().replace('\\n', ' ')\n",
    "            if len(text) < 3:\n",
    "                continue\n",
    "            if text:\n",
    "                # print(f\"Detected text: {text}\")\n",
    "                boxes_and_text.append((x, y, w, h, text))\n",
    "                # cv2.rectangle(frame, (x, y), (x + w, y + h), (0, 255, 0), 2)\n",
    "                # cv2.putText(frame, text, (x, y - 10), cv2.FONT_HERSHEY_SIMPLEX, 0.9, (36,255,12), 2)\n",
    "                braille = tb.convertirTextoABraille(text)q\n",
    "                print(f\"Se detectó el texto: {text} y se convirtió a braille: {braille}\")\n",
    "                # cv2.putText(frame, braille, (x, y - 20), cv2.FONT_HERSHEY_SIMPLEX, 0.9, (36,255,12), 2)\n",
    "    cv2.imshow('Processed', processed_frame)\n",
    "\n",
    "    for (x, y, w, h, text) in boxes_and_text:\n",
    "        cv2.rectangle(frame, (x, y), (x + w, y + h), (0, 255, 0), 2)\n",
    "        cv2.putText(frame, text, (x, y - 10), cv2.FONT_HERSHEY_SIMPLEX, 0.9, (36, 255, 12), 2)\n",
    "\n",
    "\n",
    "\n",
    "    # Display the captured frame\n",
    "    cv2.imshow('Camera', frame)\n",
    "    counter += 1\n",
    "    # Press 'q' to exit the loop\n",
    "    if cv2.waitKey(1) == ord('q'):\n",
    "        break\n",
    "    elif cv2.waitKey(1) == ord('s'):\n",
    "        cv2.imwrite(f'frame_{counter}.png', frame)\n",
    "        print(f\"Frame saved as frame_{counter}.png\")\n",
    "\n",
    "# Release the capture and writer objects\n",
    "cam.release()\n",
    "# out.release()\n",
    "cv2.destroyAllWindows()"
   ]
  },
  {
   "cell_type": "markdown",
   "metadata": {},
   "source": [
    "## Intento 2"
   ]
  },
  {
   "cell_type": "code",
   "execution_count": 32,
   "metadata": {},
   "outputs": [
    {
     "name": "stdout",
     "output_type": "stream",
     "text": [
      "Detected text: El gato ya no se encuentra en la casa.\n",
      "\n",
      "Converted to Braille: [[90, 45], [157.5, 0], [0, 0], [135, 135], [90, 0], [67.5, 135], [112.5, 45], [0, 0], [112.5, 157.5], [90, 0], [0, 0], [112.5, 135], [112.5, 45], [0, 0], [67.5, 90], [90, 45], [0, 0], [90, 45], [112.5, 135], [90, 90], [112.5, 22.5], [90, 45], [112.5, 135], [67.5, 135], [157.5, 45], [90, 0], [0, 0], [90, 45], [112.5, 135], [0, 0], [157.5, 0], [90, 0], [0, 0], [90, 90], [90, 0], [67.5, 90], [90, 0], [22.5, 0]]\n"
     ]
    }
   ],
   "source": [
    "import cv2\n",
    "import pytesseract\n",
    "from pytesseract import Output\n",
    "from PIL import Image\n",
    "import numpy as np\n",
    "import textoABraille as tb\n",
    "import serial\n",
    "import textoABraille as tb\n",
    "import pipeline as pl\n",
    "\n",
    "importlib.reload(tb) #Para actualizar los cambios en el archivo textoABraille.py\n",
    "importlib.reload(pl) #Para actualizar los cambios en el archivo pipeline.py\n",
    "# Set the path to the Tesseract executable\n",
    "pytesseract.pytesseract.tesseract_cmd = r'D:\\Tesseract\\tesseract.exe'  # Change to the path of Tesseract on your computer or comment if already in PATH\n",
    "\n",
    "# Initialize serial communication with ESP32\n",
    "# ser = serial.Serial('COM3', 115200)  # Change 'COM3' to the appropriate port\n",
    "\n",
    "\n",
    "def send_signals_to_esp32(braille_text):\n",
    "    # Convert Braille text to servo motor angles\n",
    "    angles = [ord(char) for char in braille_text]  # Example conversion\n",
    "    for angle in angles:\n",
    "        ser.write(f'{angle}\\n'.encode())\n",
    "        print(f'Sent angle: {angle}')\n",
    "\n",
    "def main(file_path):\n",
    "    if file_path.lower().endswith(('.png', '.jpg', '.jpeg', '.bmp')):\n",
    "        text = pl.process_image(file_path)\n",
    "    elif file_path.lower().endswith('.pdf'):\n",
    "        text = pl.process_pdf(file_path)\n",
    "    else:\n",
    "        print(\"Unsupported file format\")\n",
    "        return\n",
    "    # print(f\"Detected text: {text}\")\n",
    "    braille_text = tb.convertirAAngulos(text)\n",
    "    print(f\"Detected text: {text}\")\n",
    "    print(f\"Converted to Braille: {braille_text}\")\n",
    "    # send_signals_to_esp32(braille_text)\n",
    "\n",
    "main('..\\ImagenesPrueba/imagen.pdf')"
   ]
  }
 ],
 "metadata": {
  "kernelspec": {
   "display_name": "braille",
   "language": "python",
   "name": "python3"
  },
  "language_info": {
   "codemirror_mode": {
    "name": "ipython",
    "version": 3
   },
   "file_extension": ".py",
   "mimetype": "text/x-python",
   "name": "python",
   "nbconvert_exporter": "python",
   "pygments_lexer": "ipython3",
   "version": "3.9.20"
  }
 },
 "nbformat": 4,
 "nbformat_minor": 2
}
